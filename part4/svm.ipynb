{
 "cells": [
  {
   "cell_type": "code",
   "execution_count": 2,
   "id": "c6e9efbf",
   "metadata": {},
   "outputs": [],
   "source": [
    "import warnings\n",
    "import pandas as pd\n",
    "import numpy as np\n",
    "import seaborn as sns\n",
    "import matplotlib.pyplot as plt\n",
    "from collections import Counter\n",
    "from sklearn.svm import SVC\n",
    "from sklearn.model_selection import train_test_split, GridSearchCV\n",
    "from sklearn.preprocessing import StandardScaler, MinMaxScaler, RobustScaler\n",
    "from sklearn.pipeline import Pipeline\n",
    "from sklearn.metrics import classification_report, confusion_matrix, accuracy_score"
   ]
  },
  {
   "cell_type": "code",
   "execution_count": 3,
   "id": "fe3cde9f",
   "metadata": {},
   "outputs": [],
   "source": [
    "\n",
    "plt.style.use('ggplot')\n",
    "warnings.filterwarnings(\"ignore\")\n",
    "\n",
    "# Parameters\n",
    "cv = 5\n",
    "test_size = 0.3  # 30% test size as required\n",
    "random_state = 42"
   ]
  },
  {
   "cell_type": "code",
   "execution_count": 4,
   "id": "3e1a24eb",
   "metadata": {},
   "outputs": [
    {
     "name": "stdout",
     "output_type": "stream",
     "text": [
      "Data loaded successfully!\n",
      "\n",
      "Dataset shape: (300, 3)\n",
      "Columns: ['y', 'x1', 'x2']\n"
     ]
    }
   ],
   "source": [
    "df = pd.read_excel(\"../data/data.xlsx\", sheet_name=\"Part4\")\n",
    "print(\"Data loaded successfully!\")\n",
    "print(f\"\\nDataset shape: {df.shape}\")\n",
    "print(f\"Columns: {list(df.columns)}\")"
   ]
  },
  {
   "cell_type": "code",
   "execution_count": 5,
   "id": "7105fefd",
   "metadata": {},
   "outputs": [
    {
     "name": "stdout",
     "output_type": "stream",
     "text": [
      "\n",
      " First 10 rows of the dataset:\n",
      "   y        x1        x2\n",
      "0  0 -1.508140  0.641881\n",
      "1  1  2.152510  1.290190\n",
      "2  1  0.967480  1.036760\n",
      "3  0 -0.922700  1.284172\n",
      "4  0 -1.384590  0.829383\n",
      "5  0 -1.550430  0.728892\n",
      "6  0 -1.283790  0.740585\n",
      "7  1  2.615111  0.297132\n",
      "8  0 -1.854680  0.456074\n",
      "9  0 -0.327500  1.324971\n",
      "\n",
      " Dataset information:\n",
      "<class 'pandas.core.frame.DataFrame'>\n",
      "RangeIndex: 300 entries, 0 to 299\n",
      "Data columns (total 3 columns):\n",
      " #   Column  Non-Null Count  Dtype  \n",
      "---  ------  --------------  -----  \n",
      " 0   y       300 non-null    int64  \n",
      " 1   x1      300 non-null    float64\n",
      " 2   x2      300 non-null    float64\n",
      "dtypes: float64(2), int64(1)\n",
      "memory usage: 7.2 KB\n",
      "None\n"
     ]
    }
   ],
   "source": [
    "# Display first few rows to verify data loading\n",
    "print(\"\\n First 10 rows of the dataset:\")\n",
    "print(df.head(10))\n",
    "# Display dataset info\n",
    "print(\"\\n Dataset information:\")\n",
    "print(df.info())"
   ]
  },
  {
   "cell_type": "code",
   "execution_count": 6,
   "id": "c7bd3d18",
   "metadata": {},
   "outputs": [],
   "source": [
    "# Define features and target\n",
    "X = df[['x1', 'x2']].copy()\n",
    "y = df['y'].copy()"
   ]
  },
  {
   "cell_type": "code",
   "execution_count": 7,
   "id": "858a8629",
   "metadata": {},
   "outputs": [
    {
     "name": "stdout",
     "output_type": "stream",
     "text": [
      "   Class 0: 154 samples (51.33%)\n",
      "   Class 1: 146 samples (48.67%)\n",
      "\n",
      "Total samples: 300\n"
     ]
    }
   ],
   "source": [
    "class_counts = Counter(y)\n",
    "total_samples = len(y)\n",
    "\n",
    "for class_label in sorted(class_counts.keys()):\n",
    "    count = class_counts[class_label]\n",
    "    percentage = (count / total_samples) * 100\n",
    "    print(f\"   Class {class_label}: {count:2d} samples ({percentage:5.2f}%)\")\n",
    "\n",
    "print(f\"\\nTotal samples: {total_samples}\")"
   ]
  },
  {
   "cell_type": "code",
   "execution_count": 8,
   "id": "2851d7e1",
   "metadata": {},
   "outputs": [
    {
     "data": {
      "image/png": "[encoded data removed]",
      "text/plain": [
       "<Figure size 800x500 with 1 Axes>"
      ]
     },
     "metadata": {},
     "output_type": "display_data"
    }
   ],
   "source": [
    "plt.figure(figsize=(8, 5))\n",
    "classes, counts = zip(*sorted(class_counts.items()))\n",
    "plt.bar(classes, counts, color=['skyblue', 'lightcoral'])\n",
    "plt.title('Original Class Distribution')\n",
    "plt.xlabel('Class')\n",
    "plt.ylabel('Count')\n",
    "for i, count in enumerate(counts):\n",
    "    plt.text(classes[i], count + 0.1, str(count), ha='center')\n",
    "plt.show()"
   ]
  },
  {
   "cell_type": "code",
   "execution_count": 9,
   "id": "92a5a368",
   "metadata": {},
   "outputs": [
    {
     "name": "stdout",
     "output_type": "stream",
     "text": [
      "Train set size: 210 samples\n",
      "Test set size: 90 samples\n"
     ]
    }
   ],
   "source": [
    "# Train/test split with stratified sampling\n",
    "X_train, X_test, y_train, y_test = train_test_split(\n",
    "    X, y, \n",
    "    test_size=test_size, \n",
    "    stratify=y,\n",
    "    random_state=random_state\n",
    ")\n",
    "\n",
    "print(f\"Train set size: {len(X_train)} samples\")\n",
    "print(f\"Test set size: {len(X_test)} samples\")"
   ]
  }
 ],
 "metadata": {
  "kernelspec": {
   "display_name": ".venv",
   "language": "python",
   "name": "python3"
  },
  "language_info": {
   "codemirror_mode": {
    "name": "ipython",
    "version": 3
   },
   "file_extension": ".py",
   "mimetype": "text/x-python",
   "name": "python",
   "nbconvert_exporter": "python",
   "pygments_lexer": "ipython3",
   "version": "3.12.3"
  }
 },
 "nbformat": 4,
 "nbformat_minor": 5
}
