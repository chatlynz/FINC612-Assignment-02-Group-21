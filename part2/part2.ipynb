{
 "cells": [
  {
   "cell_type": "markdown",
   "id": "c23e58a5",
   "metadata": {},
   "source": [
    "## Import Libraries\n"
   ]
  },
  {
   "cell_type": "code",
   "execution_count": 1,
   "id": "ea289155",
   "metadata": {},
   "outputs": [],
   "source": [
    "import sys\n",
    "import os\n",
    "import numpy as np\n",
    "import pandas as pd\n",
    "from arch.unitroot import ADF, PhillipsPerron\n",
    "from statsmodels.stats.diagnostic import acorr_ljungbox\n",
    "import matplotlib.pyplot as plt\n",
    "from statsmodels.graphics.tsaplots import plot_acf, plot_pacf\n",
    "from statsmodels.tsa.arima.model import ARIMA\n",
    "import warnings\n",
    "warnings.filterwarnings(\"ignore\")\n"
   ]
  },
  {
   "cell_type": "markdown",
   "id": "f79b6e9a",
   "metadata": {},
   "source": [
    "## Load Data\n"
   ]
  },
  {
   "cell_type": "code",
   "execution_count": 2,
   "id": "a83a2732",
   "metadata": {},
   "outputs": [
    {
     "name": "stdout",
     "output_type": "stream",
     "text": [
      "---------- Data loaded successfully ----------\n"
     ]
    }
   ],
   "source": [
    "# Load data from Excel file\n",
    "data_path = os.path.join(\"data\", \"data.xlsx\")\n",
    "\n",
    "if not os.path.exists(data_path):\n",
    "    print(f\"---------- Excel not found: {os.path.abspath(data_path)} ----------\")\n",
    "    sys.exit(1)\n",
    "\n",
    "try:\n",
    "    target_sheet = \"Part2\"\n",
    "    xl = pd.ExcelFile(data_path)\n",
    "    df2 = xl.parse(target_sheet)\n",
    "    data = df2.select_dtypes(include=[np.number]).iloc[:, 0].dropna().astype(float)\n",
    "    print(f\"---------- Data loaded successfully ----------\")\n",
    "except Exception as ex:\n",
    "    print(f\"---------- Failed to open Excel: {ex} ----------\")\n",
    "    sys.exit(1)\n"
   ]
  },
  {
   "cell_type": "markdown",
   "id": "c0a61b49",
   "metadata": {},
   "source": [
    "## Run ADF & PP Unit Root Tests\n"
   ]
  },
  {
   "cell_type": "code",
   "execution_count": 3,
   "id": "c6d3f4fe",
   "metadata": {},
   "outputs": [
    {
     "name": "stdout",
     "output_type": "stream",
     "text": [
      "=== Augmented Dickey-Fuller Test ===\n",
      "   Augmented Dickey-Fuller Results   \n",
      "=====================================\n",
      "Test Statistic                -11.740\n",
      "P-value                         0.000\n",
      "Lags                                3\n",
      "-------------------------------------\n",
      "\n",
      "Trend: Constant\n",
      "Critical Values: -3.46 (1%), -2.88 (5%), -2.57 (10%)\n",
      "Null Hypothesis: The process contains a unit root.\n",
      "Alternative Hypothesis: The process is weakly stationary.\n",
      "=== Phillips-Perron Test ===\n",
      "     Phillips-Perron Test (Z-tau)    \n",
      "=====================================\n",
      "Test Statistic                 -9.621\n",
      "P-value                         0.000\n",
      "Lags                               15\n",
      "-------------------------------------\n",
      "\n",
      "Trend: Constant\n",
      "Critical Values: -3.46 (1%), -2.88 (5%), -2.57 (10%)\n",
      "Null Hypothesis: The process contains a unit root.\n",
      "Alternative Hypothesis: The process is weakly stationary.\n"
     ]
    }
   ],
   "source": [
    "# Run ADF & PP Unit Root Tests\n",
    "print(\"=== Augmented Dickey-Fuller Test ===\")\n",
    "adf_test = ADF(data, method=\"bic\")\n",
    "print(adf_test.summary())\n",
    "\n",
    "print(\"=== Phillips-Perron Test ===\")\n",
    "pp_test = PhillipsPerron(data)\n",
    "print(pp_test.summary())\n"
   ]
  },
  {
   "cell_type": "code",
   "execution_count": 4,
   "id": "e8eb6691",
   "metadata": {},
   "outputs": [
    {
     "name": "stdout",
     "output_type": "stream",
     "text": [
      "---------- ADF: stat=-11.740, p=1.28e-21, lags=3 ----------\n",
      "---------- PP : stat=-9.621, p=1.71e-16, lags=15 ----------\n",
      "---------- Conclusion: Both tests p-values < 0.05, reject unit root null -> Series is stationary ----------\n"
     ]
    }
   ],
   "source": [
    "# Extract test statistics and interpret results\n",
    "p_adf = adf_test.pvalue\n",
    "p_pp = pp_test.pvalue\n",
    "ts_adf = adf_test.stat\n",
    "ts_pp = pp_test.stat\n",
    "lags_adf = adf_test.lags\n",
    "lags_pp = pp_test.lags\n",
    "\n",
    "print(f\"---------- ADF: stat={ts_adf:.3f}, p={p_adf:.3g}, lags={lags_adf} ----------\")\n",
    "print(f\"---------- PP : stat={ts_pp:.3f}, p={p_pp:.3g}, lags={lags_pp} ----------\")\n",
    "\n",
    "# Stationarity conclusion based on actual p-values\n",
    "if p_adf < 0.05 and p_pp < 0.05:\n",
    "    print(\"---------- Conclusion: Both tests p-values < 0.05, reject unit root null -> Series is stationary ----------\")\n",
    "else:\n",
    "    print(\"---------- Conclusion: At least one test p-value > 0.05, cannot reject unit root null -> Series may be non-stationary ----------\")\n"
   ]
  },
  {
   "cell_type": "markdown",
   "id": "8e762a2c",
   "metadata": {},
   "source": [
    "## Ljung-Box test on series\n"
   ]
  },
  {
   "cell_type": "code",
   "execution_count": 5,
   "id": "0f752413",
   "metadata": {},
   "outputs": [
    {
     "name": "stdout",
     "output_type": "stream",
     "text": [
      "Ljung-Box test on original series:\n",
      "       lb_stat     lb_pvalue\n",
      "1    25.447557  4.545728e-07\n",
      "2    46.769520  6.984379e-11\n",
      "3   107.904544  3.099247e-23\n",
      "4   127.953359  1.066691e-26\n",
      "5   134.515103  2.618431e-27\n",
      "6   162.032224  2.197772e-32\n",
      "7   170.012832  2.494848e-33\n",
      "8   172.877061  3.216268e-33\n",
      "9   185.108210  4.340682e-35\n",
      "10  188.252910  4.515294e-35\n",
      "---------- Original Series: 30 lags with p-value < 0.05 → Significant autocorrelation present ----------\n"
     ]
    }
   ],
   "source": [
    "# Ljung-Box test on series\n",
    "lb_resid = acorr_ljungbox(data, lags=30, return_df=True)\n",
    "print(\"Ljung-Box test on original series:\")\n",
    "print(lb_resid.head(10))  # Show first 10 lags\n",
    "\n",
    "# Check autocorrelation in original series\n",
    "significant_lags = lb_resid[lb_resid['lb_pvalue'] < 0.05]\n",
    "if len(significant_lags) > 0:\n",
    "    print(f\"---------- Original Series: {len(significant_lags)} lags with p-value < 0.05 → Significant autocorrelation present ----------\")\n",
    "else:\n",
    "    print(\"---------- Original Series: All lags p-value > 0.05 → No significant autocorrelation ----------\")\n"
   ]
  },
  {
   "cell_type": "code",
   "execution_count": 6,
   "id": "892cdd83",
   "metadata": {},
   "outputs": [
    {
     "name": "stdout",
     "output_type": "stream",
     "text": [
      "=== Ljung-Box test on squared residuals (ARCH effects) ===\n",
      "      lb_stat  lb_pvalue\n",
      "1    0.187255   0.665212\n",
      "2    0.696933   0.705770\n",
      "3   10.760908   0.013092\n",
      "4   10.977679   0.026816\n",
      "5   12.345984   0.030343\n",
      "6   14.948500   0.020661\n",
      "7   16.433005   0.021442\n",
      "8   16.473699   0.036081\n",
      "9   17.779040   0.037825\n",
      "10  20.007371   0.029183\n",
      "---------- Squared Series: 12 lags with p-value < 0.05 → ARCH effects present ----------\n"
     ]
    }
   ],
   "source": [
    "# Ljung-Box test on squared series (for ARCH effects)\n",
    "lb_sq_resid = acorr_ljungbox(data ** 2, lags=30, return_df=True)\n",
    "print(\"=== Ljung-Box test on squared residuals (ARCH effects) ===\")\n",
    "print(lb_sq_resid.head(10))\n",
    "\n",
    "# Check ARCH effects in squared series\n",
    "significant_sq_lags = lb_sq_resid[lb_sq_resid['lb_pvalue'] < 0.05]\n",
    "if len(significant_sq_lags) > 0:\n",
    "    print(f\"---------- Squared Series: {len(significant_sq_lags)} lags with p-value < 0.05 → ARCH effects present ----------\")\n",
    "else:\n",
    "    print(\"---------- Squared Series: All lags p-value > 0.05 → No significant ARCH effects ----------\")\n"
   ]
  },
  {
   "cell_type": "code",
   "execution_count": 7,
   "id": "1ac9bf73",
   "metadata": {},
   "outputs": [
    {
     "data": {
      "image/png": "[encoded data removed]",
      "text/plain": [
       "<Figure size 1000x600 with 2 Axes>"
      ]
     },
     "metadata": {},
     "output_type": "display_data"
    }
   ],
   "source": [
    "# Plot ACF and PACF\n",
    "fig, ax = plt.subplots(2, 1, figsize=(10, 6))\n",
    "plot_acf(data, lags=30, ax=ax[0])\n",
    "plot_pacf(data, lags=30, ax=ax[1])\n",
    "ax[0].set_title(\"ACF of Series\")\n",
    "ax[1].set_title(\"PACF of Series\")\n",
    "plt.show()\n"
   ]
  },
  {
   "cell_type": "code",
   "execution_count": 8,
   "id": "e9670dc2",
   "metadata": {},
   "outputs": [
    {
     "name": "stdout",
     "output_type": "stream",
     "text": [
      "---------- Based on the BIC, we should estimate an ARMA(2,1) model ----------\n",
      "                               SARIMAX Results                                \n",
      "==============================================================================\n",
      "Dep. Variable:                      x   No. Observations:                  200\n",
      "Model:                 ARIMA(2, 0, 1)   Log Likelihood                -268.184\n",
      "Date:                Sun, 28 Sep 2025   AIC                            546.369\n",
      "Time:                        11:59:59   BIC                            562.860\n",
      "Sample:                             0   HQIC                           553.043\n",
      "                                - 200                                         \n",
      "Covariance Type:                  opg                                         \n",
      "==============================================================================\n",
      "                 coef    std err          z      P>|z|      [0.025      0.975]\n",
      "------------------------------------------------------------------------------\n",
      "const         -0.0324      0.041     -0.787      0.431      -0.113       0.048\n",
      "ar.L1          0.8867      0.082     10.815      0.000       0.726       1.047\n",
      "ar.L2         -0.6466      0.059    -10.969      0.000      -0.762      -0.531\n",
      "ma.L1         -0.5274      0.093     -5.687      0.000      -0.709      -0.346\n",
      "sigma2         0.8509      0.086      9.936      0.000       0.683       1.019\n",
      "===================================================================================\n",
      "Ljung-Box (L1) (Q):                   0.09   Jarque-Bera (JB):                 0.75\n",
      "Prob(Q):                              0.77   Prob(JB):                         0.69\n",
      "Heteroskedasticity (H):               0.99   Skew:                             0.15\n",
      "Prob(H) (two-sided):                  0.97   Kurtosis:                         3.01\n",
      "===================================================================================\n",
      "\n",
      "Warnings:\n",
      "[1] Covariance matrix calculated using the outer product of gradients (complex-step).\n",
      "=== Model Identification Results ===\n",
      "---------- BIC-selected optimal model: ARIMA(2,0,1) ----------\n",
      "---------- Model type: ARMA ----------\n",
      "---------- Recommendation: Proceed with BIC-selected optimal model estimation ----------\n"
     ]
    }
   ],
   "source": [
    "# Use the BIC selection criterion\n",
    "max_lag = 10\n",
    "BIC = np.zeros((max_lag + 1, max_lag + 1))\n",
    "for p in range(max_lag + 1):\n",
    "    for q in range(max_lag + 1):\n",
    "        fitted = ARIMA(data, order=(p, 0, q)).fit()\n",
    "        BIC[p, q] = fitted.bic\n",
    "\n",
    "# The BIC has a stronger penality than the AIC. Therefore, it leads in general to more parsimonious (smaller) models\n",
    "p_bic, q_bic = np.unravel_index(np.argmin(BIC), BIC.shape)\n",
    "print(\"---------- Based on the BIC, we should estimate an ARMA({},{}) model ----------\".format(p_bic, q_bic))\n",
    "\n",
    "result = ARIMA(data, order=(p_bic, 0, q_bic)).fit()\n",
    "print(result.summary())\n",
    "\n",
    "print(\"=== Model Identification Results ===\")\n",
    "print(f\"---------- BIC-selected optimal model: ARIMA({p_bic},0,{q_bic}) ----------\")\n",
    "print(f\"---------- Model type: {'AR' if q_bic == 0 else 'MA' if p_bic == 0 else 'ARMA'} ----------\")\n",
    "print(\"---------- Recommendation: Proceed with BIC-selected optimal model estimation ----------\")\n"
   ]
  },
  {
   "cell_type": "markdown",
   "id": "ace5b92a",
   "metadata": {},
   "source": [
    "## Plot ACF and PACF of residuals\n"
   ]
  },
  {
   "cell_type": "code",
   "execution_count": 9,
   "id": "7ef17488",
   "metadata": {},
   "outputs": [
    {
     "data": {
      "image/png": "[encoded data removed]",
      "text/plain": [
       "<Figure size 1000x600 with 2 Axes>"
      ]
     },
     "metadata": {},
     "output_type": "display_data"
    },
    {
     "name": "stdout",
     "output_type": "stream",
     "text": [
      "=== Residual ACF and PACF Interpretation ===\n",
      "---------- ACF of Residuals: All values fall within 95% confidence interval ----------\n",
      "---------- PACF of Residuals: All values fall within 95% confidence interval ----------\n",
      "---------- Conclusion: Residuals exhibit white noise pattern - no significant autocorrelation ----------\n",
      "---------- Model adequacy: ARIMA(2,0,1) successfully captured the autocorrelation structure ----------\n"
     ]
    }
   ],
   "source": [
    "# Plot ACF and PACF of residuals\n",
    "fig, ax = plt.subplots(2, 1, figsize=(10, 6))\n",
    "plot_acf(result.resid, lags=30, ax=ax[0])\n",
    "plot_pacf(result.resid, lags=30, ax=ax[1])\n",
    "ax[0].set_title(\"ACF of Residuals\")\n",
    "ax[1].set_title(\"PACF of Residuals\")\n",
    "plt.show()\n",
    "\n",
    "print(\"=== Residual ACF and PACF Interpretation ===\")\n",
    "print(\"---------- ACF of Residuals: All values fall within 95% confidence interval ----------\")\n",
    "print(\"---------- PACF of Residuals: All values fall within 95% confidence interval ----------\")\n",
    "print(\"---------- Conclusion: Residuals exhibit white noise pattern - no significant autocorrelation ----------\")\n",
    "print(\"---------- Model adequacy: ARIMA(2,0,1) successfully captured the autocorrelation structure ----------\")\n"
   ]
  },
  {
   "cell_type": "markdown",
   "id": "a8b6e6a7",
   "metadata": {},
   "source": [
    "## Ljung-Box test on residuals & squared residuals & Optimal ARMA Model\n"
   ]
  },
  {
   "cell_type": "code",
   "execution_count": 10,
   "id": "5debf7c2",
   "metadata": {},
   "outputs": [
    {
     "name": "stdout",
     "output_type": "stream",
     "text": [
      "=== Ljung-Box test on residuals ===\n",
      "      lb_stat  lb_pvalue\n",
      "1    0.086528   0.768638\n",
      "2    0.273836   0.872042\n",
      "3    0.996120   0.802191\n",
      "4    3.297732   0.509292\n",
      "5    4.753249   0.446730\n",
      "6    4.833930   0.565283\n",
      "7    5.093266   0.648583\n",
      "8    5.486100   0.704580\n",
      "9    5.566918   0.782358\n",
      "10   5.882783   0.825013\n",
      "11   7.039362   0.795887\n",
      "12   7.060546   0.853587\n",
      "13   7.142389   0.894665\n",
      "14   7.259071   0.924263\n",
      "15   8.112245   0.919204\n",
      "16  11.380063   0.785441\n",
      "17  12.853519   0.745935\n",
      "18  13.094652   0.785920\n",
      "19  13.319514   0.821820\n",
      "20  14.340771   0.812806\n",
      "21  14.473857   0.848398\n",
      "22  14.693700   0.875044\n",
      "23  15.485031   0.876412\n",
      "24  15.526914   0.904391\n",
      "25  15.532863   0.928032\n",
      "26  15.575400   0.945883\n",
      "27  16.566515   0.941273\n",
      "28  16.621997   0.955687\n",
      "29  16.677330   0.966958\n",
      "30  17.043707   0.972047\n",
      "=== Ljung-Box test on squared residuals (ARCH effects) ===\n",
      "      lb_stat  lb_pvalue\n",
      "1    1.647463   0.199305\n",
      "2    3.344129   0.187859\n",
      "3    3.673115   0.298994\n",
      "4    4.058646   0.398127\n",
      "5    4.156992   0.527042\n",
      "6    4.804798   0.569082\n",
      "7    5.358641   0.616285\n",
      "8    5.921527   0.656022\n",
      "9    6.704863   0.667816\n",
      "10   7.315732   0.695339\n",
      "11   7.383086   0.767266\n",
      "12  12.922959   0.374665\n",
      "13  13.994472   0.374233\n",
      "14  15.561938   0.340851\n",
      "15  15.677893   0.403776\n",
      "16  17.056428   0.381955\n",
      "17  18.190838   0.376898\n",
      "18  18.305316   0.435716\n",
      "19  18.813726   0.468843\n",
      "20  19.264940   0.504669\n",
      "21  19.380568   0.560741\n",
      "22  19.407185   0.620068\n",
      "23  19.904240   0.647681\n",
      "24  20.383455   0.674774\n",
      "25  20.386857   0.726250\n",
      "26  21.204406   0.731337\n",
      "27  22.935771   0.688458\n",
      "28  23.657142   0.699497\n",
      "29  23.843366   0.736617\n",
      "30  24.414501   0.752956\n",
      "=== Residual Ljung-Box Interpretation ===\n",
      "---------- Residuals: All p-values > 0.05 → No significant autocorrelation ----------\n",
      "---------- Squared residuals: All p-values > 0.05 → No significant ARCH effects ----------\n",
      "---------- Conclusion: ARIMA(2,0,1) model is adequate - residuals are white noise ----------\n"
     ]
    }
   ],
   "source": [
    "resid = result.resid\n",
    "squared_resid = resid ** 2\n",
    "lb_resid = acorr_ljungbox(resid, lags=30, return_df=True)\n",
    "print(\"=== Ljung-Box test on residuals ===\")\n",
    "print(lb_resid)\n",
    "# No autocorrelation on residuals on the 5% significance level\n",
    "\n",
    "lb_sq_resid = acorr_ljungbox(squared_resid, lags=30, return_df=True)\n",
    "print(\"=== Ljung-Box test on squared residuals (ARCH effects) ===\")\n",
    "print(lb_sq_resid)\n",
    "# No autocorrelation on squared residuals on the 5% significance level\n",
    "\n",
    "# Interpretation\n",
    "print(\"=== Residual Ljung-Box Interpretation ===\")\n",
    "print(\"---------- Residuals: All p-values > 0.05 → No significant autocorrelation ----------\")\n",
    "print(\"---------- Squared residuals: All p-values > 0.05 → No significant ARCH effects ----------\")\n",
    "print(\"---------- Conclusion: ARIMA(2,0,1) model is adequate - residuals are white noise ----------\")"
   ]
  }
 ],
 "metadata": {
  "kernelspec": {
   "display_name": "PyCharm (Python312)",
   "language": "python",
   "name": "pycharm-python312"
  },
  "language_info": {
   "codemirror_mode": {
    "name": "ipython",
    "version": 3
   },
   "file_extension": ".py",
   "mimetype": "text/x-python",
   "name": "python",
   "nbconvert_exporter": "python",
   "pygments_lexer": "ipython3",
   "version": "3.12.4"
  }
 },
 "nbformat": 4,
 "nbformat_minor": 5
}
